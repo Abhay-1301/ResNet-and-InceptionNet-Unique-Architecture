{
  "cells": [
    {
      "cell_type": "code",
      "execution_count": null,
      "metadata": {
        "id": "KsY_Ou1W_ZaM"
      },
      "outputs": [],
      "source": [
        "import os\n",
        "import pandas as pd\n",
        "import numpy as np\n",
        "import tensorflow as tf\n",
        "from tensorflow.keras.preprocessing.image import load_img, img_to_array\n",
        "from sklearn.model_selection import train_test_split\n",
        "from keras.callbacks import EarlyStopping, ModelCheckpoint\n",
        "from keras.preprocessing import image\n",
        "from tensorflow.keras.layers import Input, Conv3D, BatchNormalization, Activation, Add, MaxPool3D, Dense, GlobalAveragePooling3D,Flatten,MaxPooling3D\n",
        "from keras.models import load_model,Model\n",
        "import nibabel as nib\n",
        "from scipy import ndimage"
      ]
    },
    {
      "cell_type": "code",
      "source": [
        "from google.colab import drive\n",
        "drive.mount('/content/drive')"
      ],
      "metadata": {
        "colab": {
          "base_uri": "https://localhost:8080/"
        },
        "id": "JMFzbmTQ_ttc",
        "outputId": "bafeb11a-ed1b-4cdc-bcef-eade0225f229"
      },
      "execution_count": null,
      "outputs": [
        {
          "output_type": "stream",
          "name": "stdout",
          "text": [
            "Mounted at /content/drive\n"
          ]
        }
      ]
    },
    {
      "cell_type": "code",
      "execution_count": null,
      "metadata": {
        "id": "i601xiEd_ZaP"
      },
      "outputs": [],
      "source": [
        "def conv3x3(filters, stride=1):\n",
        "    return Conv3D(filters, kernel_size=(3,3,3), strides=stride, padding='same', use_bias=False)\n",
        "\n",
        "def inception_module(inputs, num_filters):\n",
        "    # 1x1 convolution branch\n",
        "    conv1 = Conv3D(num_filters, kernel_size=(1, 1,1), activation='relu')(inputs)\n",
        "    \n",
        "    # 3x3 convolution branch\n",
        "    conv3 = Conv3D(num_filters, kernel_size=(1, 1,1), activation='relu')(inputs)\n",
        "    conv3 = Conv3D(num_filters, kernel_size=(3, 3,3), padding='same', activation='relu')(conv3)\n",
        "    \n",
        "    # Max pooling branch\n",
        "    pool = MaxPooling3D(pool_size=(3, 3,3), strides=(1, 1,1), padding='same')(inputs)\n",
        "    pool = Conv3D(num_filters, kernel_size=(1, 1,1), activation='relu')(pool)\n",
        "    \n",
        "    # Concatenate outputs from all branches\n",
        "    outputs = tf.keras.layers.concatenate([conv1, conv3, pool], axis=-1)\n",
        "    \n",
        "    return outputs\n",
        "\n",
        "def residual_block(x, filters, downsample=False):\n",
        "    shortcut = x\n",
        "    stride = 1\n",
        "    if downsample:\n",
        "        stride = 2\n",
        "        shortcut = Conv3D(filters, kernel_size=(1,1,1), strides=stride, padding='same', use_bias=False)(shortcut)\n",
        "        shortcut = BatchNormalization()(shortcut)\n",
        "    \n",
        "    x = conv3x3(filters, stride)(x)\n",
        "    x = BatchNormalization()(x)\n",
        "    x = Activation('relu')(x)\n",
        "    x = conv3x3(filters)(x)\n",
        "    x = BatchNormalization()(x)\n",
        "    \n",
        "    x = tf.keras.layers.add([x, shortcut])\n",
        "    x = Activation('relu')(x)\n",
        "    return x\n",
        "\n",
        "def resnet_inception_block(x, filters, downsample=False):\n",
        "    shortcut = x\n",
        "    stride = 1\n",
        "    \n",
        "    if downsample:\n",
        "        stride = 2\n",
        "        shortcut = Conv3D(filters, kernel_size=(1,1,1), strides=stride, padding='same', use_bias=False)(shortcut)\n",
        "        shortcut = BatchNormalization()(shortcut)\n",
        "    \n",
        "    x = inception_module(x, num_filters=filters)\n",
        "    x = conv3x3(filters, stride)(x)\n",
        "    x = BatchNormalization()(x)\n",
        "    x = Activation('relu')(x)\n",
        "    \n",
        "    x = inception_module(x, num_filters=filters)\n",
        "    if shortcut.shape[-1] != x.shape[-1]:\n",
        "        x = tf.keras.layers.Conv3D(filters=shortcut.shape[-1], kernel_size=1)(x)\n",
        "    x = tf.keras.layers.add([x, shortcut])\n",
        "    x = Activation('relu')(x)\n",
        "    \n",
        "    return x\n",
        "\n",
        "# def ResInception(input_shape, num_classes):\n",
        "#     inputs = Input(shape=input_shape)\n",
        "    \n",
        "#     # Initial convolution layer\n",
        "#     x = Conv2D(64, kernel_size=(7, 7), strides=(2, 2), padding='same', activation='relu')(inputs)\n",
        "#     x = MaxPooling2D(pool_size=(3, 3), strides=(2, 2), padding='same')(x)\n",
        "    \n",
        "#     # Residual blocks\n",
        "#     x = residual_block(x, 64, downsample=False)\n",
        "#     x = inception_module(x, 64)\n",
        "#     x = residual_block(x, 64, downsample=False)\n",
        "#     x = inception_module(x, 64)\n",
        "#     x = residual_block(x, 128, downsample=True)\n",
        "#     x = inception_module(x, 128)\n",
        "#     x = residual_block(x, 128, downsample=False)\n",
        "#     x = inception_module(x, 128)\n",
        "#     x = residual_block(x, 256, downsample=True)\n",
        "#     x = inception_module(x, 256)\n",
        "#     x = residual_block(x, 256, downsample=False)\n",
        "#     x = inception_module(x, 256)\n",
        "#     x = residual_block(x, 512, downsample=True)\n",
        "#     x = inception_module(x, 512)\n",
        "#     x = residual_block(x, 512, downsample=False)\n",
        "    \n",
        "#     # Final classification layers\n",
        "#     x = BatchNormalization()(x)\n",
        "#     x = Activation('relu')(x)\n",
        "#     x = GlobalAveragePooling2D()(x)\n",
        "#     x = Flatten()(x)\n",
        "#     outputs = Dense(num_classes, activation='softmax')(x)\n",
        "#     model = Model(inputs=inputs, outputs=outputs)\n",
        "#     return model\n",
        "\n",
        "def InceptResNet(input_shape=(224,224,3), num_classes=1000):\n",
        "    inputs = Input(shape=input_shape)\n",
        "\n",
        "    x = Conv3D(filters=64, kernel_size=(7, 7,7), strides=(2, 2,2), padding='same')(inputs)\n",
        "    x = BatchNormalization()(x)\n",
        "    x = Activation('relu')(x)\n",
        "    x = MaxPooling3D(pool_size=(3, 3,3), strides=(2, 2,2), padding='same')(x)\n",
        "\n",
        "\n",
        "    x = resnet_inception_block(x, filters=64, downsample=True)\n",
        "    x = resnet_inception_block(x, filters=64, downsample=False)\n",
        "    x = resnet_inception_block(x, filters=128, downsample=True)\n",
        "    x = resnet_inception_block(x, filters=128, downsample=False)\n",
        "    x = resnet_inception_block(x, filters=256, downsample=True)\n",
        "    x = resnet_inception_block(x, filters=256, downsample=False)\n",
        "\n",
        "    x = GlobalAveragePooling3D()(x)\n",
        "    outputs = Dense(units=num_classes, activation='softmax')(x)\n",
        "\n",
        "    model = Model(inputs=inputs, outputs=outputs)\n",
        "    return model"
      ]
    },
    {
      "cell_type": "code",
      "execution_count": null,
      "metadata": {
        "id": "hS_BqvIC_ZaR"
      },
      "outputs": [],
      "source": [
        "def load_and_preprocess_image(path):\n",
        "    # load the .nii.gz file\n",
        "    img = nib.load(path)\n",
        "\n",
        "    # get the image data and header\n",
        "    img_data = img.get_fdata()\n",
        "    img_header = img.header\n",
        "\n",
        "    # resize the image to (96, 96, 96)\n",
        "    img_resized = ndimage.zoom(img_data, (96 / img_data.shape[0], 96 / img_data.shape[1], 96 / img_data.shape[2]), order=1)\n",
        "\n",
        "    # convert the image to an array and normalize it\n",
        "    img_array = np.asarray(img_resized, dtype=np.float32)\n",
        "    img_min = np.min(img_array)\n",
        "    img_max = np.max(img_array)\n",
        "    img_array_norm = (img_array - img_min) / (img_max - img_min)\n",
        "\n",
        "    return img_array_norm"
      ]
    },
    {
      "cell_type": "code",
      "execution_count": null,
      "metadata": {
        "id": "SM6UbqdK_ZaS"
      },
      "outputs": [],
      "source": [
        "# Define paths to image directory and label csv file\n",
        "image_dir = '/content/drive/MyDrive/Abide_Data'\n",
        "label_file = '/content/drive/MyDrive/B.Tech/abide_label_niigz.csv'\n",
        "\n",
        "# Load label csv file\n",
        "labels_df = pd.read_csv(label_file)\n",
        "\n",
        "# Create lists to store image paths and labels\n",
        "image_paths = []\n",
        "labels = []\n",
        "\n",
        "# Loop over each row in the label csv file and extract image path and label\n",
        "for index, row in labels_df.iterrows():\n",
        "    image_name = row['image_name']\n",
        "    label = row['label']\n",
        "    image_path = os.path.join(image_dir, image_name)\n",
        "    image_paths.append(image_path)\n",
        "    labels.append(label)\n",
        "\n",
        "# Convert labels to numpy array\n",
        "labels = np.array(labels)\n",
        "\n",
        "# Split data into training and testing sets\n",
        "train_image_paths, test_image_paths, train_labels, test_labels = train_test_split(image_paths, labels, test_size=0.2, random_state=42)"
      ]
    },
    {
      "cell_type": "code",
      "execution_count": null,
      "metadata": {
        "id": "aC_uK50w_ZaT"
      },
      "outputs": [],
      "source": [
        "# Load and preprocess training images\n",
        "train_images = []\n",
        "for image_path in train_image_paths:\n",
        "    img = load_and_preprocess_image(image_path)\n",
        "    train_images.append(img)\n",
        "train_images = np.array(train_images)\n",
        "\n",
        "# Load and preprocess testing images\n",
        "test_images = []\n",
        "for image_path in test_image_paths:\n",
        "    img = load_and_preprocess_image(image_path)\n",
        "    test_images.append(img)\n",
        "test_images = np.array(test_images)"
      ]
    },
    {
      "cell_type": "code",
      "execution_count": null,
      "metadata": {
        "id": "Lby5keY5_ZaU"
      },
      "outputs": [],
      "source": [
        "# # Save preprocessed images as numpy arrays\n",
        "# np.save('train_images.npy', train_images)\n",
        "# np.save('test_images.npy', test_images)\n",
        "# np.save('train_labels.npy', np.array(train_labels))\n",
        "# np.save('test_labels.npy', np.array(test_labels))\n"
      ]
    },
    {
      "cell_type": "code",
      "execution_count": null,
      "metadata": {
        "id": "c4LrbJmx_ZaU"
      },
      "outputs": [],
      "source": [
        "# train_images = np.load('train_images.npy')\n",
        "# test_images = np.load('test_images.npy')\n",
        "# train_labels = np.load('train_labels.npy')\n",
        "# test_labels = np.load('test_labels.npy')"
      ]
    },
    {
      "cell_type": "code",
      "execution_count": null,
      "metadata": {
        "colab": {
          "base_uri": "https://localhost:8080/"
        },
        "id": "9zuG4VmM_ZaV",
        "outputId": "384311c0-7b55-4b51-e82f-7a8146a42d72"
      },
      "outputs": [
        {
          "output_type": "stream",
          "name": "stdout",
          "text": [
            "Model: \"model\"\n",
            "__________________________________________________________________________________________________\n",
            " Layer (type)                   Output Shape         Param #     Connected to                     \n",
            "==================================================================================================\n",
            " input_1 (InputLayer)           [(None, 96, 96, 96,  0           []                               \n",
            "                                 1)]                                                              \n",
            "                                                                                                  \n",
            " conv3d (Conv3D)                (None, 48, 48, 48,   22016       ['input_1[0][0]']                \n",
            "                                64)                                                               \n",
            "                                                                                                  \n",
            " batch_normalization (BatchNorm  (None, 48, 48, 48,   256        ['conv3d[0][0]']                 \n",
            " alization)                     64)                                                               \n",
            "                                                                                                  \n",
            " activation (Activation)        (None, 48, 48, 48,   0           ['batch_normalization[0][0]']    \n",
            "                                64)                                                               \n",
            "                                                                                                  \n",
            " max_pooling3d (MaxPooling3D)   (None, 24, 24, 24,   0           ['activation[0][0]']             \n",
            "                                64)                                                               \n",
            "                                                                                                  \n",
            " conv3d_3 (Conv3D)              (None, 24, 24, 24,   4160        ['max_pooling3d[0][0]']          \n",
            "                                64)                                                               \n",
            "                                                                                                  \n",
            " max_pooling3d_1 (MaxPooling3D)  (None, 24, 24, 24,   0          ['max_pooling3d[0][0]']          \n",
            "                                64)                                                               \n",
            "                                                                                                  \n",
            " conv3d_2 (Conv3D)              (None, 24, 24, 24,   4160        ['max_pooling3d[0][0]']          \n",
            "                                64)                                                               \n",
            "                                                                                                  \n",
            " conv3d_4 (Conv3D)              (None, 24, 24, 24,   110656      ['conv3d_3[0][0]']               \n",
            "                                64)                                                               \n",
            "                                                                                                  \n",
            " conv3d_5 (Conv3D)              (None, 24, 24, 24,   4160        ['max_pooling3d_1[0][0]']        \n",
            "                                64)                                                               \n",
            "                                                                                                  \n",
            " concatenate (Concatenate)      (None, 24, 24, 24,   0           ['conv3d_2[0][0]',               \n",
            "                                192)                              'conv3d_4[0][0]',               \n",
            "                                                                  'conv3d_5[0][0]']               \n",
            "                                                                                                  \n",
            " conv3d_6 (Conv3D)              (None, 12, 12, 12,   331776      ['concatenate[0][0]']            \n",
            "                                64)                                                               \n",
            "                                                                                                  \n",
            " batch_normalization_2 (BatchNo  (None, 12, 12, 12,   256        ['conv3d_6[0][0]']               \n",
            " rmalization)                   64)                                                               \n",
            "                                                                                                  \n",
            " activation_1 (Activation)      (None, 12, 12, 12,   0           ['batch_normalization_2[0][0]']  \n",
            "                                64)                                                               \n",
            "                                                                                                  \n",
            " conv3d_8 (Conv3D)              (None, 12, 12, 12,   4160        ['activation_1[0][0]']           \n",
            "                                64)                                                               \n",
            "                                                                                                  \n",
            " max_pooling3d_2 (MaxPooling3D)  (None, 12, 12, 12,   0          ['activation_1[0][0]']           \n",
            "                                64)                                                               \n",
            "                                                                                                  \n",
            " conv3d_7 (Conv3D)              (None, 12, 12, 12,   4160        ['activation_1[0][0]']           \n",
            "                                64)                                                               \n",
            "                                                                                                  \n",
            " conv3d_9 (Conv3D)              (None, 12, 12, 12,   110656      ['conv3d_8[0][0]']               \n",
            "                                64)                                                               \n",
            "                                                                                                  \n",
            " conv3d_10 (Conv3D)             (None, 12, 12, 12,   4160        ['max_pooling3d_2[0][0]']        \n",
            "                                64)                                                               \n",
            "                                                                                                  \n",
            " concatenate_1 (Concatenate)    (None, 12, 12, 12,   0           ['conv3d_7[0][0]',               \n",
            "                                192)                              'conv3d_9[0][0]',               \n",
            "                                                                  'conv3d_10[0][0]']              \n",
            "                                                                                                  \n",
            " conv3d_1 (Conv3D)              (None, 12, 12, 12,   4096        ['max_pooling3d[0][0]']          \n",
            "                                64)                                                               \n",
            "                                                                                                  \n",
            " conv3d_11 (Conv3D)             (None, 12, 12, 12,   12352       ['concatenate_1[0][0]']          \n",
            "                                64)                                                               \n",
            "                                                                                                  \n",
            " batch_normalization_1 (BatchNo  (None, 12, 12, 12,   256        ['conv3d_1[0][0]']               \n",
            " rmalization)                   64)                                                               \n",
            "                                                                                                  \n",
            " add (Add)                      (None, 12, 12, 12,   0           ['conv3d_11[0][0]',              \n",
            "                                64)                               'batch_normalization_1[0][0]']  \n",
            "                                                                                                  \n",
            " activation_2 (Activation)      (None, 12, 12, 12,   0           ['add[0][0]']                    \n",
            "                                64)                                                               \n",
            "                                                                                                  \n",
            " conv3d_13 (Conv3D)             (None, 12, 12, 12,   4160        ['activation_2[0][0]']           \n",
            "                                64)                                                               \n",
            "                                                                                                  \n",
            " max_pooling3d_3 (MaxPooling3D)  (None, 12, 12, 12,   0          ['activation_2[0][0]']           \n",
            "                                64)                                                               \n",
            "                                                                                                  \n",
            " conv3d_12 (Conv3D)             (None, 12, 12, 12,   4160        ['activation_2[0][0]']           \n",
            "                                64)                                                               \n",
            "                                                                                                  \n",
            " conv3d_14 (Conv3D)             (None, 12, 12, 12,   110656      ['conv3d_13[0][0]']              \n",
            "                                64)                                                               \n",
            "                                                                                                  \n",
            " conv3d_15 (Conv3D)             (None, 12, 12, 12,   4160        ['max_pooling3d_3[0][0]']        \n",
            "                                64)                                                               \n",
            "                                                                                                  \n",
            " concatenate_2 (Concatenate)    (None, 12, 12, 12,   0           ['conv3d_12[0][0]',              \n",
            "                                192)                              'conv3d_14[0][0]',              \n",
            "                                                                  'conv3d_15[0][0]']              \n",
            "                                                                                                  \n",
            " conv3d_16 (Conv3D)             (None, 12, 12, 12,   331776      ['concatenate_2[0][0]']          \n",
            "                                64)                                                               \n",
            "                                                                                                  \n",
            " batch_normalization_3 (BatchNo  (None, 12, 12, 12,   256        ['conv3d_16[0][0]']              \n",
            " rmalization)                   64)                                                               \n",
            "                                                                                                  \n",
            " activation_3 (Activation)      (None, 12, 12, 12,   0           ['batch_normalization_3[0][0]']  \n",
            "                                64)                                                               \n",
            "                                                                                                  \n",
            " conv3d_18 (Conv3D)             (None, 12, 12, 12,   4160        ['activation_3[0][0]']           \n",
            "                                64)                                                               \n",
            "                                                                                                  \n",
            " max_pooling3d_4 (MaxPooling3D)  (None, 12, 12, 12,   0          ['activation_3[0][0]']           \n",
            "                                64)                                                               \n",
            "                                                                                                  \n",
            " conv3d_17 (Conv3D)             (None, 12, 12, 12,   4160        ['activation_3[0][0]']           \n",
            "                                64)                                                               \n",
            "                                                                                                  \n",
            " conv3d_19 (Conv3D)             (None, 12, 12, 12,   110656      ['conv3d_18[0][0]']              \n",
            "                                64)                                                               \n",
            "                                                                                                  \n",
            " conv3d_20 (Conv3D)             (None, 12, 12, 12,   4160        ['max_pooling3d_4[0][0]']        \n",
            "                                64)                                                               \n",
            "                                                                                                  \n",
            " concatenate_3 (Concatenate)    (None, 12, 12, 12,   0           ['conv3d_17[0][0]',              \n",
            "                                192)                              'conv3d_19[0][0]',              \n",
            "                                                                  'conv3d_20[0][0]']              \n",
            "                                                                                                  \n",
            " conv3d_21 (Conv3D)             (None, 12, 12, 12,   12352       ['concatenate_3[0][0]']          \n",
            "                                64)                                                               \n",
            "                                                                                                  \n",
            " add_1 (Add)                    (None, 12, 12, 12,   0           ['conv3d_21[0][0]',              \n",
            "                                64)                               'activation_2[0][0]']           \n",
            "                                                                                                  \n",
            " activation_4 (Activation)      (None, 12, 12, 12,   0           ['add_1[0][0]']                  \n",
            "                                64)                                                               \n",
            "                                                                                                  \n",
            " conv3d_24 (Conv3D)             (None, 12, 12, 12,   8320        ['activation_4[0][0]']           \n",
            "                                128)                                                              \n",
            "                                                                                                  \n",
            " max_pooling3d_5 (MaxPooling3D)  (None, 12, 12, 12,   0          ['activation_4[0][0]']           \n",
            "                                64)                                                               \n",
            "                                                                                                  \n",
            " conv3d_23 (Conv3D)             (None, 12, 12, 12,   8320        ['activation_4[0][0]']           \n",
            "                                128)                                                              \n",
            "                                                                                                  \n",
            " conv3d_25 (Conv3D)             (None, 12, 12, 12,   442496      ['conv3d_24[0][0]']              \n",
            "                                128)                                                              \n",
            "                                                                                                  \n",
            " conv3d_26 (Conv3D)             (None, 12, 12, 12,   8320        ['max_pooling3d_5[0][0]']        \n",
            "                                128)                                                              \n",
            "                                                                                                  \n",
            " concatenate_4 (Concatenate)    (None, 12, 12, 12,   0           ['conv3d_23[0][0]',              \n",
            "                                384)                              'conv3d_25[0][0]',              \n",
            "                                                                  'conv3d_26[0][0]']              \n",
            "                                                                                                  \n",
            " conv3d_27 (Conv3D)             (None, 6, 6, 6, 128  1327104     ['concatenate_4[0][0]']          \n",
            "                                )                                                                 \n",
            "                                                                                                  \n",
            " batch_normalization_5 (BatchNo  (None, 6, 6, 6, 128  512        ['conv3d_27[0][0]']              \n",
            " rmalization)                   )                                                                 \n",
            "                                                                                                  \n",
            " activation_5 (Activation)      (None, 6, 6, 6, 128  0           ['batch_normalization_5[0][0]']  \n",
            "                                )                                                                 \n",
            "                                                                                                  \n",
            " conv3d_29 (Conv3D)             (None, 6, 6, 6, 128  16512       ['activation_5[0][0]']           \n",
            "                                )                                                                 \n",
            "                                                                                                  \n",
            " max_pooling3d_6 (MaxPooling3D)  (None, 6, 6, 6, 128  0          ['activation_5[0][0]']           \n",
            "                                )                                                                 \n",
            "                                                                                                  \n",
            " conv3d_28 (Conv3D)             (None, 6, 6, 6, 128  16512       ['activation_5[0][0]']           \n",
            "                                )                                                                 \n",
            "                                                                                                  \n",
            " conv3d_30 (Conv3D)             (None, 6, 6, 6, 128  442496      ['conv3d_29[0][0]']              \n",
            "                                )                                                                 \n",
            "                                                                                                  \n",
            " conv3d_31 (Conv3D)             (None, 6, 6, 6, 128  16512       ['max_pooling3d_6[0][0]']        \n",
            "                                )                                                                 \n",
            "                                                                                                  \n",
            " concatenate_5 (Concatenate)    (None, 6, 6, 6, 384  0           ['conv3d_28[0][0]',              \n",
            "                                )                                 'conv3d_30[0][0]',              \n",
            "                                                                  'conv3d_31[0][0]']              \n",
            "                                                                                                  \n",
            " conv3d_22 (Conv3D)             (None, 6, 6, 6, 128  8192        ['activation_4[0][0]']           \n",
            "                                )                                                                 \n",
            "                                                                                                  \n",
            " conv3d_32 (Conv3D)             (None, 6, 6, 6, 128  49280       ['concatenate_5[0][0]']          \n",
            "                                )                                                                 \n",
            "                                                                                                  \n",
            " batch_normalization_4 (BatchNo  (None, 6, 6, 6, 128  512        ['conv3d_22[0][0]']              \n",
            " rmalization)                   )                                                                 \n",
            "                                                                                                  \n",
            " add_2 (Add)                    (None, 6, 6, 6, 128  0           ['conv3d_32[0][0]',              \n",
            "                                )                                 'batch_normalization_4[0][0]']  \n",
            "                                                                                                  \n",
            " activation_6 (Activation)      (None, 6, 6, 6, 128  0           ['add_2[0][0]']                  \n",
            "                                )                                                                 \n",
            "                                                                                                  \n",
            " conv3d_34 (Conv3D)             (None, 6, 6, 6, 128  16512       ['activation_6[0][0]']           \n",
            "                                )                                                                 \n",
            "                                                                                                  \n",
            " max_pooling3d_7 (MaxPooling3D)  (None, 6, 6, 6, 128  0          ['activation_6[0][0]']           \n",
            "                                )                                                                 \n",
            "                                                                                                  \n",
            " conv3d_33 (Conv3D)             (None, 6, 6, 6, 128  16512       ['activation_6[0][0]']           \n",
            "                                )                                                                 \n",
            "                                                                                                  \n",
            " conv3d_35 (Conv3D)             (None, 6, 6, 6, 128  442496      ['conv3d_34[0][0]']              \n",
            "                                )                                                                 \n",
            "                                                                                                  \n",
            " conv3d_36 (Conv3D)             (None, 6, 6, 6, 128  16512       ['max_pooling3d_7[0][0]']        \n",
            "                                )                                                                 \n",
            "                                                                                                  \n",
            " concatenate_6 (Concatenate)    (None, 6, 6, 6, 384  0           ['conv3d_33[0][0]',              \n",
            "                                )                                 'conv3d_35[0][0]',              \n",
            "                                                                  'conv3d_36[0][0]']              \n",
            "                                                                                                  \n",
            " conv3d_37 (Conv3D)             (None, 6, 6, 6, 128  1327104     ['concatenate_6[0][0]']          \n",
            "                                )                                                                 \n",
            "                                                                                                  \n",
            " batch_normalization_6 (BatchNo  (None, 6, 6, 6, 128  512        ['conv3d_37[0][0]']              \n",
            " rmalization)                   )                                                                 \n",
            "                                                                                                  \n",
            " activation_7 (Activation)      (None, 6, 6, 6, 128  0           ['batch_normalization_6[0][0]']  \n",
            "                                )                                                                 \n",
            "                                                                                                  \n",
            " conv3d_39 (Conv3D)             (None, 6, 6, 6, 128  16512       ['activation_7[0][0]']           \n",
            "                                )                                                                 \n",
            "                                                                                                  \n",
            " max_pooling3d_8 (MaxPooling3D)  (None, 6, 6, 6, 128  0          ['activation_7[0][0]']           \n",
            "                                )                                                                 \n",
            "                                                                                                  \n",
            " conv3d_38 (Conv3D)             (None, 6, 6, 6, 128  16512       ['activation_7[0][0]']           \n",
            "                                )                                                                 \n",
            "                                                                                                  \n",
            " conv3d_40 (Conv3D)             (None, 6, 6, 6, 128  442496      ['conv3d_39[0][0]']              \n",
            "                                )                                                                 \n",
            "                                                                                                  \n",
            " conv3d_41 (Conv3D)             (None, 6, 6, 6, 128  16512       ['max_pooling3d_8[0][0]']        \n",
            "                                )                                                                 \n",
            "                                                                                                  \n",
            " concatenate_7 (Concatenate)    (None, 6, 6, 6, 384  0           ['conv3d_38[0][0]',              \n",
            "                                )                                 'conv3d_40[0][0]',              \n",
            "                                                                  'conv3d_41[0][0]']              \n",
            "                                                                                                  \n",
            " conv3d_42 (Conv3D)             (None, 6, 6, 6, 128  49280       ['concatenate_7[0][0]']          \n",
            "                                )                                                                 \n",
            "                                                                                                  \n",
            " add_3 (Add)                    (None, 6, 6, 6, 128  0           ['conv3d_42[0][0]',              \n",
            "                                )                                 'activation_6[0][0]']           \n",
            "                                                                                                  \n",
            " activation_8 (Activation)      (None, 6, 6, 6, 128  0           ['add_3[0][0]']                  \n",
            "                                )                                                                 \n",
            "                                                                                                  \n",
            " conv3d_45 (Conv3D)             (None, 6, 6, 6, 256  33024       ['activation_8[0][0]']           \n",
            "                                )                                                                 \n",
            "                                                                                                  \n",
            " max_pooling3d_9 (MaxPooling3D)  (None, 6, 6, 6, 128  0          ['activation_8[0][0]']           \n",
            "                                )                                                                 \n",
            "                                                                                                  \n",
            " conv3d_44 (Conv3D)             (None, 6, 6, 6, 256  33024       ['activation_8[0][0]']           \n",
            "                                )                                                                 \n",
            "                                                                                                  \n",
            " conv3d_46 (Conv3D)             (None, 6, 6, 6, 256  1769728     ['conv3d_45[0][0]']              \n",
            "                                )                                                                 \n",
            "                                                                                                  \n",
            " conv3d_47 (Conv3D)             (None, 6, 6, 6, 256  33024       ['max_pooling3d_9[0][0]']        \n",
            "                                )                                                                 \n",
            "                                                                                                  \n",
            " concatenate_8 (Concatenate)    (None, 6, 6, 6, 768  0           ['conv3d_44[0][0]',              \n",
            "                                )                                 'conv3d_46[0][0]',              \n",
            "                                                                  'conv3d_47[0][0]']              \n",
            "                                                                                                  \n",
            " conv3d_48 (Conv3D)             (None, 3, 3, 3, 256  5308416     ['concatenate_8[0][0]']          \n",
            "                                )                                                                 \n",
            "                                                                                                  \n",
            " batch_normalization_8 (BatchNo  (None, 3, 3, 3, 256  1024       ['conv3d_48[0][0]']              \n",
            " rmalization)                   )                                                                 \n",
            "                                                                                                  \n",
            " activation_9 (Activation)      (None, 3, 3, 3, 256  0           ['batch_normalization_8[0][0]']  \n",
            "                                )                                                                 \n",
            "                                                                                                  \n",
            " conv3d_50 (Conv3D)             (None, 3, 3, 3, 256  65792       ['activation_9[0][0]']           \n",
            "                                )                                                                 \n",
            "                                                                                                  \n",
            " max_pooling3d_10 (MaxPooling3D  (None, 3, 3, 3, 256  0          ['activation_9[0][0]']           \n",
            " )                              )                                                                 \n",
            "                                                                                                  \n",
            " conv3d_49 (Conv3D)             (None, 3, 3, 3, 256  65792       ['activation_9[0][0]']           \n",
            "                                )                                                                 \n",
            "                                                                                                  \n",
            " conv3d_51 (Conv3D)             (None, 3, 3, 3, 256  1769728     ['conv3d_50[0][0]']              \n",
            "                                )                                                                 \n",
            "                                                                                                  \n",
            " conv3d_52 (Conv3D)             (None, 3, 3, 3, 256  65792       ['max_pooling3d_10[0][0]']       \n",
            "                                )                                                                 \n",
            "                                                                                                  \n",
            " concatenate_9 (Concatenate)    (None, 3, 3, 3, 768  0           ['conv3d_49[0][0]',              \n",
            "                                )                                 'conv3d_51[0][0]',              \n",
            "                                                                  'conv3d_52[0][0]']              \n",
            "                                                                                                  \n",
            " conv3d_43 (Conv3D)             (None, 3, 3, 3, 256  32768       ['activation_8[0][0]']           \n",
            "                                )                                                                 \n",
            "                                                                                                  \n",
            " conv3d_53 (Conv3D)             (None, 3, 3, 3, 256  196864      ['concatenate_9[0][0]']          \n",
            "                                )                                                                 \n",
            "                                                                                                  \n",
            " batch_normalization_7 (BatchNo  (None, 3, 3, 3, 256  1024       ['conv3d_43[0][0]']              \n",
            " rmalization)                   )                                                                 \n",
            "                                                                                                  \n",
            " add_4 (Add)                    (None, 3, 3, 3, 256  0           ['conv3d_53[0][0]',              \n",
            "                                )                                 'batch_normalization_7[0][0]']  \n",
            "                                                                                                  \n",
            " activation_10 (Activation)     (None, 3, 3, 3, 256  0           ['add_4[0][0]']                  \n",
            "                                )                                                                 \n",
            "                                                                                                  \n",
            " conv3d_55 (Conv3D)             (None, 3, 3, 3, 256  65792       ['activation_10[0][0]']          \n",
            "                                )                                                                 \n",
            "                                                                                                  \n",
            " max_pooling3d_11 (MaxPooling3D  (None, 3, 3, 3, 256  0          ['activation_10[0][0]']          \n",
            " )                              )                                                                 \n",
            "                                                                                                  \n",
            " conv3d_54 (Conv3D)             (None, 3, 3, 3, 256  65792       ['activation_10[0][0]']          \n",
            "                                )                                                                 \n",
            "                                                                                                  \n",
            " conv3d_56 (Conv3D)             (None, 3, 3, 3, 256  1769728     ['conv3d_55[0][0]']              \n",
            "                                )                                                                 \n",
            "                                                                                                  \n",
            " conv3d_57 (Conv3D)             (None, 3, 3, 3, 256  65792       ['max_pooling3d_11[0][0]']       \n",
            "                                )                                                                 \n",
            "                                                                                                  \n",
            " concatenate_10 (Concatenate)   (None, 3, 3, 3, 768  0           ['conv3d_54[0][0]',              \n",
            "                                )                                 'conv3d_56[0][0]',              \n",
            "                                                                  'conv3d_57[0][0]']              \n",
            "                                                                                                  \n",
            " conv3d_58 (Conv3D)             (None, 3, 3, 3, 256  5308416     ['concatenate_10[0][0]']         \n",
            "                                )                                                                 \n",
            "                                                                                                  \n",
            " batch_normalization_9 (BatchNo  (None, 3, 3, 3, 256  1024       ['conv3d_58[0][0]']              \n",
            " rmalization)                   )                                                                 \n",
            "                                                                                                  \n",
            " activation_11 (Activation)     (None, 3, 3, 3, 256  0           ['batch_normalization_9[0][0]']  \n",
            "                                )                                                                 \n",
            "                                                                                                  \n",
            " conv3d_60 (Conv3D)             (None, 3, 3, 3, 256  65792       ['activation_11[0][0]']          \n",
            "                                )                                                                 \n",
            "                                                                                                  \n",
            " max_pooling3d_12 (MaxPooling3D  (None, 3, 3, 3, 256  0          ['activation_11[0][0]']          \n",
            " )                              )                                                                 \n",
            "                                                                                                  \n",
            " conv3d_59 (Conv3D)             (None, 3, 3, 3, 256  65792       ['activation_11[0][0]']          \n",
            "                                )                                                                 \n",
            "                                                                                                  \n",
            " conv3d_61 (Conv3D)             (None, 3, 3, 3, 256  1769728     ['conv3d_60[0][0]']              \n",
            "                                )                                                                 \n",
            "                                                                                                  \n",
            " conv3d_62 (Conv3D)             (None, 3, 3, 3, 256  65792       ['max_pooling3d_12[0][0]']       \n",
            "                                )                                                                 \n",
            "                                                                                                  \n",
            " concatenate_11 (Concatenate)   (None, 3, 3, 3, 768  0           ['conv3d_59[0][0]',              \n",
            "                                )                                 'conv3d_61[0][0]',              \n",
            "                                                                  'conv3d_62[0][0]']              \n",
            "                                                                                                  \n",
            " conv3d_63 (Conv3D)             (None, 3, 3, 3, 256  196864      ['concatenate_11[0][0]']         \n",
            "                                )                                                                 \n",
            "                                                                                                  \n",
            " add_5 (Add)                    (None, 3, 3, 3, 256  0           ['conv3d_63[0][0]',              \n",
            "                                )                                 'activation_10[0][0]']          \n",
            "                                                                                                  \n",
            " activation_12 (Activation)     (None, 3, 3, 3, 256  0           ['add_5[0][0]']                  \n",
            "                                )                                                                 \n",
            "                                                                                                  \n",
            " global_average_pooling3d (Glob  (None, 256)         0           ['activation_12[0][0]']          \n",
            " alAveragePooling3D)                                                                              \n",
            "                                                                                                  \n",
            " dense (Dense)                  (None, 2)            514         ['global_average_pooling3d[0][0]'\n",
            "                                                                 ]                                \n",
            "                                                                                                  \n",
            "==================================================================================================\n",
            "Total params: 24,731,010\n",
            "Trainable params: 24,728,194\n",
            "Non-trainable params: 2,816\n",
            "__________________________________________________________________________________________________\n"
          ]
        }
      ],
      "source": [
        "model = InceptResNet(input_shape=(96, 96, 96,1), num_classes=2)\n",
        "model.summary()"
      ]
    },
    {
      "cell_type": "code",
      "execution_count": null,
      "metadata": {
        "id": "9rQKJOdj_ZaW"
      },
      "outputs": [],
      "source": [
        "# Compile the model\n",
        "opt = tf.keras.optimizers.SGD(learning_rate = 0.005, momentum = 0.0, nesterov = False)\n",
        "model.compile(optimizer=opt, loss='sparse_categorical_crossentropy', metrics=['accuracy'])\n",
        "\n",
        "# tf.keras.metrics.TruePositives(),tf.keras.metrics.TrueNegatives(),tf.keras.metrics.FalsePositives(),tf.keras.metrics.FalseNegatives()"
      ]
    },
    {
      "cell_type": "code",
      "execution_count": null,
      "metadata": {
        "colab": {
          "base_uri": "https://localhost:8080/"
        },
        "id": "5xrVKOv4_ZaY",
        "outputId": "a0436b96-6354-4e60-85b8-60fc3cf87790"
      },
      "outputs": [
        {
          "output_type": "stream",
          "name": "stdout",
          "text": [
            "Epoch 1/5\n",
            "3/3 [==============================] - 35s 4s/step - loss: 1.1041 - accuracy: 0.5263 - val_loss: 0.6901 - val_accuracy: 0.5500\n",
            "Epoch 2/5\n",
            "3/3 [==============================] - 2s 764ms/step - loss: 1.4151 - accuracy: 0.4737 - val_loss: 0.6917 - val_accuracy: 0.5500\n",
            "Epoch 3/5\n",
            "3/3 [==============================] - 3s 1s/step - loss: 1.0135 - accuracy: 0.5526 - val_loss: 0.6896 - val_accuracy: 0.5500\n",
            "Epoch 4/5\n",
            "3/3 [==============================] - 3s 1s/step - loss: 0.7977 - accuracy: 0.4605 - val_loss: 0.6879 - val_accuracy: 0.5500\n",
            "Epoch 5/5\n",
            "3/3 [==============================] - 2s 750ms/step - loss: 0.4779 - accuracy: 0.7632 - val_loss: 0.6882 - val_accuracy: 0.5500\n"
          ]
        }
      ],
      "source": [
        "# Define some callbacks\n",
        "early_stop = EarlyStopping(patience=3, monitor='val_loss')\n",
        "checkpointer = ModelCheckpoint(filepath='best_inceptRes_model_on_abide.h5', save_best_only=True, monitor='val_loss')\n",
        "\n",
        "# Train the model\n",
        "history = model.fit(train_images, train_labels, epochs=5, batch_size=32, validation_split=0.2, callbacks=[early_stop, checkpointer])"
      ]
    },
    {
      "cell_type": "code",
      "execution_count": null,
      "metadata": {
        "colab": {
          "base_uri": "https://localhost:8080/",
          "height": 472
        },
        "id": "m3_mPKEb_ZaZ",
        "outputId": "6ac3920a-d4f7-456a-d2e5-ad5807b8c480"
      },
      "outputs": [
        {
          "output_type": "display_data",
          "data": {
            "text/plain": [
              "<Figure size 640x480 with 1 Axes>"
            ],
            "image/png": "[encoded data removed]"
          },
          "metadata": {}
        }
      ],
      "source": [
        "from matplotlib import pyplot as plt\n",
        "\n",
        "plt.plot(history.history['accuracy'])\n",
        "plt.plot(history.history['val_accuracy'])\n",
        "plt.title('model accuracy')\n",
        "plt.ylabel('accuracy')\n",
        "plt.xlabel('epoch')\n",
        "plt.legend(['train', 'val'], loc='upper left')\n",
        "plt.show()"
      ]
    },
    {
      "cell_type": "code",
      "execution_count": null,
      "metadata": {
        "colab": {
          "base_uri": "https://localhost:8080/",
          "height": 472
        },
        "id": "ysU_3X95_ZaZ",
        "outputId": "db43cc00-25f9-4feb-8d5d-8b2c9d8f9025"
      },
      "outputs": [
        {
          "output_type": "display_data",
          "data": {
            "text/plain": [
              "<Figure size 640x480 with 1 Axes>"
            ],
            "image/png": "[encoded data removed]"
          },
          "metadata": {}
        }
      ],
      "source": [
        "plt.plot(history.history['loss'])\n",
        "plt.plot(history.history['val_loss'])\n",
        "plt.title('model loss')\n",
        "plt.ylabel('loss')\n",
        "plt.xlabel('epoch')\n",
        "plt.legend(['train', 'val'], loc='upper left')\n",
        "plt.show()"
      ]
    },
    {
      "cell_type": "code",
      "execution_count": null,
      "metadata": {
        "colab": {
          "base_uri": "https://localhost:8080/"
        },
        "id": "LHAXLNM-_Zaa",
        "outputId": "663ae2a9-1a4d-40a1-dd4f-261aa1b6edd5"
      },
      "outputs": [
        {
          "output_type": "stream",
          "name": "stdout",
          "text": [
            "1/1 [==============================] - 2s 2s/step - loss: 0.7306 - accuracy: 0.3750\n",
            "Test loss: 0.730557382106781\n",
            "Test accuracy: 0.375\n"
          ]
        }
      ],
      "source": [
        "best_model = load_model('best_inceptRes_model_on_abide.h5')\n",
        "\n",
        "# Evaluate the model on the testing set\n",
        "test_loss, test_accuracy = best_model.evaluate(test_images, test_labels)\n",
        "print('Test loss:', test_loss)\n",
        "print('Test accuracy:', test_accuracy)"
      ]
    },
    {
      "cell_type": "code",
      "execution_count": null,
      "metadata": {
        "colab": {
          "base_uri": "https://localhost:8080/"
        },
        "id": "SqAKk3o-_Zab",
        "outputId": "f56048d0-4c2c-424c-9d95-f6a3d5162835"
      },
      "outputs": [
        {
          "output_type": "stream",
          "name": "stdout",
          "text": [
            "1/1 [==============================] - 1s 1s/step\n"
          ]
        }
      ],
      "source": [
        "result = model.predict(test_images,)\n",
        "y_test = np.argmax(result, axis=1)\n"
      ]
    },
    {
      "cell_type": "code",
      "execution_count": null,
      "metadata": {
        "colab": {
          "base_uri": "https://localhost:8080/"
        },
        "id": "76SKYLms_Zab",
        "outputId": "72a258e5-05a8-49c9-dfb5-4033c436ed68"
      },
      "outputs": [
        {
          "output_type": "stream",
          "name": "stdout",
          "text": [
            "[[ 0 15]\n",
            " [ 0  9]]\n"
          ]
        }
      ],
      "source": [
        "from sklearn.metrics import confusion_matrix\n",
        "\n",
        "# Assume y_true and y_pred are the true and predicted labels, respectively\n",
        "y_true = test_labels\n",
        "y_pred = y_test\n",
        "\n",
        "# Get the confusion matrix\n",
        "cm = confusion_matrix(y_true, y_pred)\n",
        "print(cm)\n"
      ]
    },
    {
      "cell_type": "code",
      "execution_count": null,
      "metadata": {
        "colab": {
          "base_uri": "https://localhost:8080/"
        },
        "id": "Sak2QDlZ_Zac",
        "outputId": "d4458661-7e0b-4c83-9911-ec0e15cd491b"
      },
      "outputs": [
        {
          "output_type": "stream",
          "name": "stdout",
          "text": [
            "Class 1\n",
            "True Positives (TP):  0\n",
            "True Negatives (TN):  9\n",
            "False Positives (FP):  0\n",
            "False Negatives (FN):  15\n",
            "Class 2\n",
            "True Positives (TP):  9\n",
            "True Negatives (TN):  0\n",
            "False Positives (FP):  15\n",
            "False Negatives (FN):  0\n"
          ]
        }
      ],
      "source": [
        "# Loop over the rows and columns of the confusion matrix to extract TP, TN, FP, and FN numbers for each class\n",
        "for i in range(len(cm)):\n",
        "    tp = cm[i,i]\n",
        "    fp = sum(cm[:,i]) - tp\n",
        "    fn = sum(cm[i,:]) - tp\n",
        "    tn = sum(sum(cm)) - tp - fp - fn\n",
        "    \n",
        "    print(f\"Class {i+1}\")\n",
        "    print(\"True Positives (TP): \", tp)\n",
        "    print(\"True Negatives (TN): \", tn)\n",
        "    print(\"False Positives (FP): \", fp)\n",
        "    print(\"False Negatives (FN): \", fn)"
      ]
    },
    {
      "cell_type": "code",
      "execution_count": null,
      "metadata": {
        "colab": {
          "base_uri": "https://localhost:8080/"
        },
        "id": "PnsTMcr4_Zad",
        "outputId": "13ffcfda-b0dc-48e2-967c-30956f8a98f6"
      },
      "outputs": [
        {
          "output_type": "stream",
          "name": "stdout",
          "text": [
            "              precision    recall  f1-score   support\n",
            "\n",
            "           0     0.0000    0.0000    0.0000        15\n",
            "           1     0.3750    1.0000    0.5455         9\n",
            "\n",
            "    accuracy                         0.3750        24\n",
            "   macro avg     0.1875    0.5000    0.2727        24\n",
            "weighted avg     0.1406    0.3750    0.2045        24\n",
            "\n"
          ]
        },
        {
          "output_type": "stream",
          "name": "stderr",
          "text": [
            "/usr/local/lib/python3.9/dist-packages/sklearn/metrics/_classification.py:1344: UndefinedMetricWarning: Precision and F-score are ill-defined and being set to 0.0 in labels with no predicted samples. Use `zero_division` parameter to control this behavior.\n",
            "  _warn_prf(average, modifier, msg_start, len(result))\n",
            "/usr/local/lib/python3.9/dist-packages/sklearn/metrics/_classification.py:1344: UndefinedMetricWarning: Precision and F-score are ill-defined and being set to 0.0 in labels with no predicted samples. Use `zero_division` parameter to control this behavior.\n",
            "  _warn_prf(average, modifier, msg_start, len(result))\n",
            "/usr/local/lib/python3.9/dist-packages/sklearn/metrics/_classification.py:1344: UndefinedMetricWarning: Precision and F-score are ill-defined and being set to 0.0 in labels with no predicted samples. Use `zero_division` parameter to control this behavior.\n",
            "  _warn_prf(average, modifier, msg_start, len(result))\n"
          ]
        }
      ],
      "source": [
        "from sklearn.metrics import classification_report\n",
        "\n",
        "# Get the classification report\n",
        "cr = classification_report(y_true, y_pred, digits=4)\n",
        "\n",
        "print(cr)"
      ]
    },
    {
      "cell_type": "code",
      "execution_count": null,
      "metadata": {
        "id": "v0gm-tMU_Zad"
      },
      "outputs": [],
      "source": []
    }
  ],
  "metadata": {
    "kernelspec": {
      "display_name": "Python 3",
      "language": "python",
      "name": "python3"
    },
    "language_info": {
      "codemirror_mode": {
        "name": "ipython",
        "version": 3
      },
      "file_extension": ".py",
      "mimetype": "text/x-python",
      "name": "python",
      "nbconvert_exporter": "python",
      "pygments_lexer": "ipython3",
      "version": "3.10.3"
    },
    "orig_nbformat": 4,
    "colab": {
      "provenance": []
    },
    "accelerator": "GPU",
    "gpuClass": "standard"
  },
  "nbformat": 4,
  "nbformat_minor": 0
}